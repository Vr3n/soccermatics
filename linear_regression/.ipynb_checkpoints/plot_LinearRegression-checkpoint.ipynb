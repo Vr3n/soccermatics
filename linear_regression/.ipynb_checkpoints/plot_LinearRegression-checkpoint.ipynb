{
  "cells": [
    {
      "cell_type": "code",
      "execution_count": null,
      "metadata": {
        "collapsed": false
      },
      "outputs": [],
      "source": [
        "%matplotlib inline"
      ]
    },
    {
      "cell_type": "markdown",
      "metadata": {},
      "source": [
        "\n# Linear regression\n\nWe are going to look at the relationship between age and\nminutes played. Start by watching the video a\n\n..  youtube:: TnOqoeVPnXE\n   :width: 640\n   :height: 349\n\nEither work through the code at the same time as watching or afterwards.\n"
      ]
    },
    {
      "cell_type": "code",
      "execution_count": null,
      "metadata": {
        "collapsed": false
      },
      "outputs": [],
      "source": [
        "#importing necessary libraries\nimport pandas as pd\nimport numpy as np\nimport matplotlib.pyplot as plt\nimport statsmodels.formula.api as smf"
      ]
    },
    {
      "cell_type": "markdown",
      "metadata": {},
      "source": [
        "## Opening data\nIn this example we use data downloaded from [FBref](https://fbref.com/en/comps/12/2021-2022/stats/2021-2022-La-Liga-Stats) on players in La Liga.\nWe just use the age and minutes played columns.\nAnd we only take the first 20 observations, to help visualise the process.\nDownload [playerstats.csv](https://github.com/soccermatics/Soccermatics/blob/main/course/lessons/lesson2/playerstats.csv)\nyour working directory.\n\n"
      ]
    },
    {
      "cell_type": "code",
      "execution_count": null,
      "metadata": {
        "collapsed": false
      },
      "outputs": [],
      "source": [
        "num_obs=20\nlaliga_df=pd.read_csv(\"playerstats.csv\",delimiter=',')\nminutes_model = pd.DataFrame()\nminutes_model = minutes_model.assign(minutes=laliga_df['Min'][0:num_obs])\nminutes_model = minutes_model.assign(age=laliga_df['Age'][0:num_obs])\n\n# Make an age squared column so we can fir polynomial model.\nminutes_model = minutes_model.assign(age_squared=np.power(laliga_df['Age'][0:num_obs],2))"
      ]
    },
    {
      "cell_type": "markdown",
      "metadata": {},
      "source": [
        "## Plotting the data\nStart by plotting the data.\n\n"
      ]
    },
    {
      "cell_type": "code",
      "execution_count": null,
      "metadata": {
        "collapsed": false
      },
      "outputs": [],
      "source": [
        "fig,ax=plt.subplots(num=1)\nax.plot(minutes_model['age'], minutes_model['minutes'], linestyle='none', marker= '.', markersize= 10, color='blue')\nax.set_ylabel('Minutes played')\nax.set_xlabel('Age')\nax.spines['top'].set_visible(False)\nax.spines['right'].set_visible(False)\nplt.xlim((15,40))\nplt.ylim((0,3000))\nplt.show()"
      ]
    },
    {
      "cell_type": "markdown",
      "metadata": {},
      "source": [
        "## Fitting the model\nWe are going to begin by doing a  straight line linear regression\n .. math::\n\n    y = b_0 + b_1 x\n\nA straight line relationship between minutes played and age.\n\n"
      ]
    },
    {
      "cell_type": "code",
      "execution_count": null,
      "metadata": {
        "collapsed": false
      },
      "outputs": [],
      "source": [
        "model_fit=smf.ols(formula='minutes  ~ age   ', data=minutes_model).fit()\nprint(model_fit.summary())        \nb=model_fit.params"
      ]
    },
    {
      "cell_type": "markdown",
      "metadata": {},
      "source": [
        "Comparing the fit \n ----------------------------\nWe now use the fit to plot a line through the data.\n .. math::\n\n    y = b_0 + b_1 x\n\nwhere the parameters are estimated from the model fit.\n\n"
      ]
    },
    {
      "cell_type": "code",
      "execution_count": null,
      "metadata": {
        "collapsed": false
      },
      "outputs": [],
      "source": [
        "#First plot the data as previously\nfig,ax=plt.subplots(num=1)\nax.plot(minutes_model['age'], minutes_model['minutes'], linestyle='none', marker= '.', markersize= 10, color='blue')\nax.set_ylabel('Minutes played')\nax.set_xlabel('Age')\nax.spines['top'].set_visible(False)\nax.spines['right'].set_visible(False)\nplt.xlim((15,40))\nplt.ylim((0,3000))\n\n#Now create the line through the data\nx=np.arange(40,step=1)\ny= np.mean(minutes_model['minutes'])*np.ones(40)\nax.plot(x, y, color='black')\n\n#Show distances to line for each point\nfor i,a in enumerate(minutes_model['age']):\n    ax.plot([a,a],[minutes_model['minutes'][i], np.mean(minutes_model['minutes']) ], color='red')\nplt.show()"
      ]
    },
    {
      "cell_type": "markdown",
      "metadata": {},
      "source": [
        "A model including squared terms\n ----------------------------\nWe now fit the quadratic model\n .. math::\n\n    y = b_0 + b_1 x + b_2 x^2\n\nestimating the parameters from the data.\n\n"
      ]
    },
    {
      "cell_type": "code",
      "execution_count": null,
      "metadata": {
        "collapsed": false
      },
      "outputs": [],
      "source": [
        "# First fit the model\nmodel_fit=smf.ols(formula='minutes  ~ age + age_squared  ', data=minutes_model).fit()\nprint(model_fit.summary())        \nb=model_fit.params\n\n# Compare the fit \nfig,ax=plt.subplots(num=1)\nax.plot(minutes_model['age'], minutes_model['minutes'], linestyle='none', marker= '.', markersize= 10, color='blue')\nax.set_ylabel('Minutes played')\nax.set_xlabel('Age')\nax.spines['top'].set_visible(False)\nax.spines['right'].set_visible(False)\nplt.xlim((15,40))\nplt.ylim((0,3000))\nx=np.arange(40,step=1)\ny= b[0] + b[1]*x + b[2]*x*x\nax.plot(x, y, color='black')\n\nfor i,a in enumerate(minutes_model['age']):\n    ax.plot([a,a],[minutes_model['minutes'][i], b[0] + b[1]*a + b[2]*a*a], color='red')\nplt.show()"
      ]
    },
    {
      "cell_type": "markdown",
      "metadata": {},
      "source": [
        "## Now try with all data points\n1) Refit the model with all data points\n\n2) Try adding a cubic term\n\n3) Think about how well the model works. What are the limitations?\n\n"
      ]
    }
  ],
  "metadata": {
    "kernelspec": {
      "display_name": "Python 3",
      "language": "python",
      "name": "python3"
    },
    "language_info": {
      "codemirror_mode": {
        "name": "ipython",
        "version": 3
      },
      "file_extension": ".py",
      "mimetype": "text/x-python",
      "name": "python",
      "nbconvert_exporter": "python",
      "pygments_lexer": "ipython3",
      "version": "3.10.8"
    }
  },
  "nbformat": 4,
  "nbformat_minor": 0
}