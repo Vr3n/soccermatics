{
 "cells": [
  {
   "cell_type": "code",
   "execution_count": null,
   "metadata": {
    "collapsed": false,
    "jupyter": {
     "outputs_hidden": false
    }
   },
   "outputs": [],
   "source": [
    "%matplotlib inline"
   ]
  },
  {
   "cell_type": "markdown",
   "metadata": {},
   "source": [
    "\n",
    "# Linear regression\n",
    "\n",
    "We are going to look at the relationship between age and\n",
    "minutes played. Start by watching the video a\n",
    "\n",
    "..  youtube:: TnOqoeVPnXE\n",
    "   :width: 640\n",
    "   :height: 349\n",
    "\n",
    "Either work through the code at the same time as watching or afterwards.\n"
   ]
  },
  {
   "cell_type": "code",
   "execution_count": null,
   "metadata": {
    "collapsed": false,
    "jupyter": {
     "outputs_hidden": false
    }
   },
   "outputs": [],
   "source": [
    "#importing necessary libraries\n",
    "import pandas as pd\n",
    "import numpy as np\n",
    "import matplotlib.pyplot as plt\n",
    "import statsmodels.formula.api as smf"
   ]
  },
  {
   "cell_type": "markdown",
   "metadata": {},
   "source": [
    "## Opening data\n",
    "In this example we use data downloaded from [FBref](https://fbref.com/en/comps/12/2021-2022/stats/2021-2022-La-Liga-Stats) on players in La Liga.\n",
    "We just use the age and minutes played columns.\n",
    "And we only take the first 20 observations, to help visualise the process.\n",
    "Download [playerstats.csv](https://github.com/soccermatics/Soccermatics/blob/main/course/lessons/lesson2/playerstats.csv)\n",
    "your working directory.\n",
    "\n"
   ]
  },
  {
   "cell_type": "code",
   "execution_count": null,
   "metadata": {
    "collapsed": false,
    "jupyter": {
     "outputs_hidden": false
    }
   },
   "outputs": [],
   "source": [
    "num_obs=20\n",
    "laliga_df=pd.read_csv(\"playerstats.csv\",delimiter=',')\n",
    "minutes_model = pd.DataFrame()\n",
    "minutes_model = minutes_model.assign(minutes=laliga_df['Min'][0:num_obs])\n",
    "minutes_model = minutes_model.assign(age=laliga_df['Age'][0:num_obs])\n",
    "\n",
    "# Make an age squared column so we can fir polynomial model.\n",
    "minutes_model = minutes_model.assign(age_squared=np.power(laliga_df['Age'][0:num_obs],2))"
   ]
  },
  {
   "cell_type": "markdown",
   "metadata": {},
   "source": [
    "## Plotting the data\n",
    "Start by plotting the data.\n",
    "\n"
   ]
  },
  {
   "cell_type": "code",
   "execution_count": null,
   "metadata": {
    "collapsed": false,
    "jupyter": {
     "outputs_hidden": false
    }
   },
   "outputs": [],
   "source": [
    "fig,ax=plt.subplots(num=1)\n",
    "ax.plot(minutes_model['age'], minutes_model['minutes'], linestyle='none', marker= '.', markersize= 10, color='blue')\n",
    "ax.set_ylabel('Minutes played')\n",
    "ax.set_xlabel('Age')\n",
    "ax.spines['top'].set_visible(False)\n",
    "ax.spines['right'].set_visible(False)\n",
    "plt.xlim((15,40))\n",
    "plt.ylim((0,3000))\n",
    "plt.show()"
   ]
  },
  {
   "cell_type": "markdown",
   "metadata": {},
   "source": [
    "## Fitting the model\n",
    "We are going to begin by doing a  straight line linear regression\n",
    " .. math::\n",
    "\n",
    "    y = b_0 + b_1 x\n",
    "\n",
    "A straight line relationship between minutes played and age.\n",
    "\n"
   ]
  },
  {
   "cell_type": "code",
   "execution_count": null,
   "metadata": {
    "collapsed": false,
    "jupyter": {
     "outputs_hidden": false
    }
   },
   "outputs": [],
   "source": [
    "model_fit=smf.ols(formula='minutes  ~ age   ', data=minutes_model).fit()\n",
    "print(model_fit.summary())        \n",
    "b=model_fit.params"
   ]
  },
  {
   "cell_type": "markdown",
   "metadata": {},
   "source": [
    "Comparing the fit \n",
    " ----------------------------\n",
    "We now use the fit to plot a line through the data.\n",
    " .. math::\n",
    "\n",
    "    y = b_0 + b_1 x\n",
    "\n",
    "where the parameters are estimated from the model fit.\n",
    "\n"
   ]
  },
  {
   "cell_type": "code",
   "execution_count": null,
   "metadata": {
    "collapsed": false,
    "jupyter": {
     "outputs_hidden": false
    }
   },
   "outputs": [],
   "source": [
    "#First plot the data as previously\n",
    "fig,ax=plt.subplots(num=1)\n",
    "ax.plot(minutes_model['age'], minutes_model['minutes'], linestyle='none', marker= '.', markersize= 10, color='blue')\n",
    "ax.set_ylabel('Minutes played')\n",
    "ax.set_xlabel('Age')\n",
    "ax.spines['top'].set_visible(False)\n",
    "ax.spines['right'].set_visible(False)\n",
    "plt.xlim((15,40))\n",
    "plt.ylim((0,3000))\n",
    "\n",
    "#Now create the line through the data\n",
    "x=np.arange(40,step=1)\n",
    "y= np.mean(minutes_model['minutes'])*np.ones(40)\n",
    "ax.plot(x, y, color='black')\n",
    "\n",
    "#Show distances to line for each point\n",
    "for i,a in enumerate(minutes_model['age']):\n",
    "    ax.plot([a,a],[minutes_model['minutes'][i], np.mean(minutes_model['minutes']) ], color='red')\n",
    "plt.show()"
   ]
  },
  {
   "cell_type": "markdown",
   "metadata": {},
   "source": [
    "A model including squared terms\n",
    " ----------------------------\n",
    "We now fit the quadratic model\n",
    " .. math::\n",
    "\n",
    "    y = b_0 + b_1 x + b_2 x^2\n",
    "\n",
    "estimating the parameters from the data.\n",
    "\n"
   ]
  },
  {
   "cell_type": "code",
   "execution_count": null,
   "metadata": {
    "collapsed": false,
    "jupyter": {
     "outputs_hidden": false
    }
   },
   "outputs": [],
   "source": [
    "# First fit the model\n",
    "model_fit=smf.ols(formula='minutes  ~ age + age_squared  ', data=minutes_model).fit()\n",
    "print(model_fit.summary())        \n",
    "b=model_fit.params\n",
    "\n",
    "# Compare the fit \n",
    "fig,ax=plt.subplots(num=1)\n",
    "ax.plot(minutes_model['age'], minutes_model['minutes'], linestyle='none', marker= '.', markersize= 10, color='blue')\n",
    "ax.set_ylabel('Minutes played')\n",
    "ax.set_xlabel('Age')\n",
    "ax.spines['top'].set_visible(False)\n",
    "ax.spines['right'].set_visible(False)\n",
    "plt.xlim((15,40))\n",
    "plt.ylim((0,3000))\n",
    "x=np.arange(40,step=1)\n",
    "y= b[0] + b[1]*x + b[2]*x*x\n",
    "ax.plot(x, y, color='black')\n",
    "\n",
    "for i,a in enumerate(minutes_model['age']):\n",
    "    ax.plot([a,a],[minutes_model['minutes'][i], b[0] + b[1]*a + b[2]*a*a], color='red')\n",
    "plt.show()"
   ]
  },
  {
   "cell_type": "markdown",
   "metadata": {},
   "source": [
    "## Now try with all data points\n",
    "1) Refit the model with all data points\n",
    "\n",
    "2) Try adding a cubic term\n",
    "\n",
    "3) Think about how well the model works. What are the limitations?\n",
    "\n"
   ]
  }
 ],
 "metadata": {
  "kernelspec": {
   "display_name": "Python 3 (ipykernel)",
   "language": "python",
   "name": "python3"
  },
  "language_info": {
   "codemirror_mode": {
    "name": "ipython",
    "version": 3
   },
   "file_extension": ".py",
   "mimetype": "text/x-python",
   "name": "python",
   "nbconvert_exporter": "python",
   "pygments_lexer": "ipython3",
   "version": "3.11.8"
  }
 },
 "nbformat": 4,
 "nbformat_minor": 4
}
