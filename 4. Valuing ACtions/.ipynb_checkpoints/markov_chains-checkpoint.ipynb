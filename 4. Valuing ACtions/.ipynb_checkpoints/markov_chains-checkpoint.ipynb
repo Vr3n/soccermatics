{
 "cells": [
  {
   "cell_type": "code",
   "execution_count": 1,
   "id": "0fe72cd2-4282-4448-87de-5d4c8ca1cabe",
   "metadata": {},
   "outputs": [],
   "source": [
    "import numpy as np"
   ]
  },
  {
   "cell_type": "markdown",
   "id": "ecfb37cd-6ddf-46d0-aa88-88fe6955340d",
   "metadata": {},
   "source": [
    "## Setting up the matrix.\n",
    "\n",
    "We first set up the pass matrix $A$ and the goal vector $g$."
   ]
  },
  {
   "cell_type": "code",
   "execution_count": 2,
   "id": "e86f6d87-fa0c-4150-b15a-9d07d3881123",
   "metadata": {},
   "outputs": [],
   "source": [
    "# Pass matrix.\n",
    "A = np.matrix([[0.25, 0.20, 0.1], [0.1, 0.25, 0.2], [0.1, 0.1, 0.25]])\n",
    "\n",
    "# Goal vector\n",
    "g = np.transpose(np.matrix([0.05, 0.15, 0.05]))"
   ]
  },
  {
   "cell_type": "markdown",
   "id": "94c5289e-e61e-443e-a56a-08c3d236cdf7",
   "metadata": {},
   "source": [
    "## Linear Algebra Method.\n",
    "\n",
    "Here we solve $(I-A)xT = g$"
   ]
  },
  {
   "cell_type": "code",
   "execution_count": 6,
   "id": "0f684290-e798-43ca-9e2c-0436bbc85116",
   "metadata": {},
   "outputs": [
    {
     "name": "stdout",
     "output_type": "stream",
     "text": [
      "Expected Threat\n",
      "Central, Box, Wing\n",
      "[[0.14991763 0.25205931 0.12026359]]\n"
     ]
    }
   ],
   "source": [
    "xT1 = np.linalg.solve(np.identity(3) - A, g)\n",
    "\n",
    "print('Expected Threat')\n",
    "print('Central, Box, Wing')\n",
    "print(np.transpose(xT1))"
   ]
  },
  {
   "cell_type": "markdown",
   "id": "62211484-0be2-4f9d-92d0-044ebc72b969",
   "metadata": {},
   "source": [
    "## Iterative Method.\n",
    "\n",
    "Here we iterate $xT' = A * xT + g$ to update through each move of the ball."
   ]
  },
  {
   "cell_type": "code",
   "execution_count": 7,
   "id": "d7477993-151e-4c11-9df0-56c0e3f9d5c4",
   "metadata": {},
   "outputs": [
    {
     "name": "stdout",
     "output_type": "stream",
     "text": [
      "Expected Threat\n",
      "Central, Box, Wing\n",
      "[[0.14966911 0.25182476 0.12007973]]\n"
     ]
    }
   ],
   "source": [
    "xT2 = np.zeros((3, 1))\n",
    "\n",
    "for t in range(10):\n",
    "    xT2 = np.matmul(A, xT2) + g\n",
    "\n",
    "print('Expected Threat')\n",
    "print('Central, Box, Wing')\n",
    "print(np.transpose(xT2))"
   ]
  },
  {
   "cell_type": "markdown",
   "id": "fe8cd35b-27cb-4b51-abfc-c1ac5942fffb",
   "metadata": {},
   "source": [
    "## Simulation Method.\n",
    "\n",
    "Here we simulate the $num_sim$ possessions, starting from each of the three areas."
   ]
  },
  {
   "cell_type": "code",
   "execution_count": 13,
   "id": "90645d7e-bb4b-4e74-87c2-9512bbf518a7",
   "metadata": {},
   "outputs": [
    {
     "name": "stdout",
     "output_type": "stream",
     "text": [
      "---------------\n",
      "Start FromCentral\n",
      "--------------\n",
      " - Central - Box - Central - Out of Play\n",
      " - Central - Wing - Box - Out of Play\n",
      " - Central - Goal!\n",
      " - Central - Goal!\n",
      " - Central - Central - Central - Central - Box - Out of Play\n",
      " - Central - Out of Play\n",
      " - Central - Out of Play\n",
      " - Central - Box - Out of Play\n",
      " - Central - Out of Play\n",
      " - Central - Out of Play\n",
      "\n",
      "Total goals in this play:  2 \n",
      "\n",
      "---------------\n",
      "Start FromWing\n",
      "--------------\n",
      " - Wing - Out of Play\n",
      " - Wing - Out of Play\n",
      " - Wing - Box - Out of Play\n",
      " - Wing - Out of Play\n",
      " - Wing - Box - Goal!\n",
      " - Wing - Box - Goal!\n",
      " - Wing - Central - Out of Play\n",
      " - Wing - Wing - Goal!\n",
      " - Wing - Wing - Out of Play\n",
      " - Wing - Box - Box - Out of Play\n",
      "\n",
      "Total goals in this play:  3 \n",
      "\n",
      "---------------\n",
      "Start FromBox\n",
      "--------------\n",
      " - Box - Box - Goal!\n",
      " - Box - Out of Play\n",
      " - Box - Goal!\n",
      " - Box - Out of Play\n",
      " - Box - Out of Play\n",
      " - Box - Out of Play\n",
      " - Box - Out of Play\n",
      " - Box - Wing - Wing - Central - Central - Central - Out of Play\n",
      " - Box - Out of Play\n",
      " - Box - Wing - Goal!\n",
      "\n",
      "Total goals in this play:  3 \n",
      "\n",
      "\n",
      "\n",
      "-----------------\n",
      "Expected Threat\n",
      "Central, Box, Wing\n",
      "[0.2 0.3 0.3]\n"
     ]
    }
   ],
   "source": [
    "num_sims = 10_00_000\n",
    "xT3 = np.zeros(3)\n",
    "\n",
    "description = { 0: 'Central', 1: 'Wing', 2: 'Box' }\n",
    "\n",
    "for i in range(3):\n",
    "    num_goals = 0\n",
    "\n",
    "    print(\"---------------\")\n",
    "    print(\"Start From\" + description[i])\n",
    "    print(\"--------------\")\n",
    "\n",
    "    for n in range(num_sims):\n",
    "        ball_in_play = True\n",
    "        # Initial state is 'i'.\n",
    "        s = i\n",
    "        # describe_possession = ''\n",
    "        while ball_in_play:\n",
    "            r = np.random.rand()\n",
    "\n",
    "            # Make commentary text.\n",
    "            # describe_possession = describe_possession + ' - ' + description[s]\n",
    "\n",
    "            # Cumulative sum of 'in-play' probabilities.\n",
    "            c_sum = np.cumsum(A[s, :])\n",
    "            new_s = np.sum(r > c_sum)\n",
    "\n",
    "            if new_s > 2:\n",
    "                # Ball is either goal or out of play.\n",
    "                ball_in_play = False\n",
    "                if r < g[s] + c_sum[0, 2]:\n",
    "                    # It's a goal.\n",
    "                    num_goals += 1\n",
    "                    # describe_possession = describe_possession + ' - Goal!'\n",
    "                # else:\n",
    "                #     describe_possession = describe_possession + ' - Out of Play'\n",
    "            s = new_s\n",
    "        # print(describe_possession)\n",
    "\n",
    "    print(\"\\nTotal goals in this play: \", num_goals, \"\\n\")\n",
    "    xT3[i] = num_goals / num_sims\n",
    "\n",
    "print(\"\\n\\n-----------------\")\n",
    "print(\"Expected Threat\")\n",
    "print('Central, Box, Wing')\n",
    "print(xT3)"
   ]
  },
  {
   "cell_type": "code",
   "execution_count": null,
   "id": "b307072e-527e-4d21-b240-62932851fd49",
   "metadata": {},
   "outputs": [],
   "source": []
  }
 ],
 "metadata": {
  "kernelspec": {
   "display_name": "Python 3 (ipykernel)",
   "language": "python",
   "name": "python3"
  },
  "language_info": {
   "codemirror_mode": {
    "name": "ipython",
    "version": 3
   },
   "file_extension": ".py",
   "mimetype": "text/x-python",
   "name": "python",
   "nbconvert_exporter": "python",
   "pygments_lexer": "ipython3",
   "version": "3.11.8"
  }
 },
 "nbformat": 4,
 "nbformat_minor": 5
}
